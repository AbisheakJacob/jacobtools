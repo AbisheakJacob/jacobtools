{
 "cells": [
  {
   "cell_type": "code",
   "execution_count": 1,
   "metadata": {},
   "outputs": [],
   "source": [
    "# importing the packages\n",
    "\n",
    "import pandas as pd"
   ]
  },
  {
   "attachments": {},
   "cell_type": "markdown",
   "metadata": {},
   "source": [
    "---  \n",
    "\n",
    "---  \n",
    "\n",
    "**LIST OF PANDAS DATAFRAME FUNCTIONS**  \n",
    "\n",
    "---  \n",
    "\n",
    "---  "
   ]
  },
  {
   "attachments": {},
   "cell_type": "markdown",
   "metadata": {},
   "source": [
    "**DATAFRAME COLUMN HEADER FORMATTING FUNCTION**  "
   ]
  },
  {
   "cell_type": "code",
   "execution_count": null,
   "metadata": {},
   "outputs": [],
   "source": [
    "# defining a fuction to convert the function to lowercase\n",
    "\n",
    "def fheader(df_name):\n",
    "\n",
    "\n",
    "    # creating a list of the column titles in the dataframe\n",
    "    \n",
    "    column_titles = list(df_name.columns)\n",
    "\n",
    "    \n",
    "    # converting all the elements in the list to lowercase\n",
    "    \n",
    "    column_titles = [x.lower() for x in column_titles]\n",
    "\n",
    "    \n",
    "    # removing empty space in the beginging and the end of all the headers\n",
    "    \n",
    "    column_titles = [x.strip() for x in column_titles]\n",
    "\n",
    "    \n",
    "    # converting all the spaces left in the header to underscore\n",
    "    \n",
    "    column_titles = [x.replace(\" \", \"_\") for x in column_titles]\n",
    "    \n",
    "    \n",
    "    # replacing the old header names with the new ones\n",
    "    \n",
    "    df_name.columns = column_titles\n",
    "\n",
    "\n",
    "    return df_name"
   ]
  },
  {
   "cell_type": "markdown",
   "metadata": {},
   "source": []
  },
  {
   "cell_type": "code",
   "execution_count": null,
   "metadata": {},
   "outputs": [],
   "source": []
  }
 ],
 "metadata": {
  "language_info": {
   "name": "python"
  },
  "orig_nbformat": 4
 },
 "nbformat": 4,
 "nbformat_minor": 2
}
