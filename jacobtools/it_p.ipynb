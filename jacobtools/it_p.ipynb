{
 "cells": [
  {
   "cell_type": "code",
   "execution_count": 2,
   "metadata": {},
   "outputs": [],
   "source": [
    "# importing the packages\n",
    "\n",
    "from itertools import combinations\n",
    "from collections import Counter\n",
    "import pandas as pd"
   ]
  },
  {
   "attachments": {},
   "cell_type": "markdown",
   "metadata": {},
   "source": [
    "---  \n",
    "\n",
    "---  \n",
    "\n",
    "**LIST OF ITERTOOLS FUNCTIONS**\n",
    "\n",
    "---  \n",
    "\n",
    "---  "
   ]
  },
  {
   "attachments": {},
   "cell_type": "markdown",
   "metadata": {},
   "source": [
    "**COMBINATION FUNCTION**"
   ]
  },
  {
   "cell_type": "code",
   "execution_count": 4,
   "metadata": {},
   "outputs": [],
   "source": [
    "# creating a function to calculate the count of all the possible combinations\n",
    "\n",
    "def combo(df_data, column_name, groupby_column, combo_no):\n",
    "    \n",
    "    \n",
    "    # create the groupby column and the column name\n",
    "    # groupby column - the column which you choose to use as the pivot for the entire combination operation\n",
    "    # column_name - the column that you wish to create the combinations along a pivot\n",
    "    # creating a dataframe along the groupby column where the combination column will form a list\n",
    "    \n",
    "    new_data = df_data.groupby(groupby_column)[column_name].agg(list).reset_index()\n",
    "    \n",
    "    \n",
    "    # creating a new column all-combinations that contains all the combinations of the items as per the combo_no\n",
    "    \n",
    "    new_data['all_combinations'] = new_data[column_name].apply(lambda x: list(combinations(x,combo_no)))\n",
    "    \n",
    "    \n",
    "    # count the number of occurances of each particular combinations\n",
    "    \n",
    "    combinations_counter = Counter([tuple(sorted(i)) for sublist in new_data['all_combinations'] for i in sublist])\n",
    "    \n",
    "    \n",
    "    # sort all the combinations in the descending order\n",
    "    \n",
    "    all_combinations_sorted = combinations_counter.most_common()\n",
    "    \n",
    "    \n",
    "    # returns the sorted series \n",
    "    \n",
    "    return all_combinations_sorted"
   ]
  },
  {
   "cell_type": "code",
   "execution_count": null,
   "metadata": {},
   "outputs": [],
   "source": []
  }
 ],
 "metadata": {
  "kernelspec": {
   "display_name": "Python 3",
   "language": "python",
   "name": "python3"
  },
  "language_info": {
   "codemirror_mode": {
    "name": "ipython",
    "version": 3
   },
   "file_extension": ".py",
   "mimetype": "text/x-python",
   "name": "python",
   "nbconvert_exporter": "python",
   "pygments_lexer": "ipython3",
   "version": "3.10.9"
  },
  "orig_nbformat": 4
 },
 "nbformat": 4,
 "nbformat_minor": 2
}
