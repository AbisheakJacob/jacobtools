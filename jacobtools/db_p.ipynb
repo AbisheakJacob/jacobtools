{
 "cells": [
  {
   "cell_type": "code",
   "execution_count": 2,
   "metadata": {},
   "outputs": [],
   "source": [
    "# import the libraries\n",
    "\n",
    "import pandas as pd\n",
    "import psycopg2\n",
    "import sqlalchemy\n",
    "from sqlalchemy import create_engine\n",
    "\n",
    "import warnings\n",
    "warnings.filterwarnings(\"ignore\")"
   ]
  },
  {
   "cell_type": "markdown",
   "metadata": {},
   "source": [
    "---  \n",
    "---  \n",
    "\n",
    "\n",
    "**LIST OF ALL DATABASE FUNCTIONS**  \n",
    "\n",
    "- **createdb(database_name)**\n",
    "    - *creates a database of the given database name*\n",
    "- **dropdb(database_name)**\n",
    "    - *deletes a database of the given database name*\n",
    "- **listdb()**\n",
    "    - *lists all the databases in the postgres server*\n",
    "- **createtb(database_name, table_name, df_name)**\n",
    "    - *creates a table from pandas dataframe*\n",
    "- **readtb(database_name, table_name)**\n",
    "    - *reads a table to a pandas dataframe*\n",
    "- **listdb(database_name)**\n",
    "    - *lists all the tables in the database*"
   ]
  },
  {
   "cell_type": "markdown",
   "metadata": {},
   "source": [
    "---  \n",
    "\n",
    "---  \n",
    "\n",
    "\n",
    "**CREATE DATABASE FUNCTION**  "
   ]
  },
  {
   "cell_type": "code",
   "execution_count": null,
   "metadata": {},
   "outputs": [],
   "source": [
    "# defining the create database function\n",
    "\n",
    "def createdb(database_name):\n",
    "    \n",
    "    \n",
    "    # pulling in the login credentials from the txt file\n",
    "    \n",
    "    credential = open('credentials.txt')\n",
    "    line = credential.readlines()\n",
    "    password = line[1][:-1]\n",
    "    \n",
    "    \n",
    "    # establishing a connection\n",
    "\n",
    "    conn = psycopg2.connect(\n",
    "        host=\"localhost\",\n",
    "        port=\"5432\",\n",
    "        database=\"postgres\",\n",
    "        user=\"postgres\",\n",
    "        password=password\n",
    "    )\n",
    "    conn.autocommit=True\n",
    "    \n",
    "    \n",
    "    # creating a cursor object using the cursor() method\n",
    "\n",
    "    cursor = conn.cursor()\n",
    "    \n",
    "    \n",
    "    # Preparing the query to create a database\n",
    "\n",
    "    drop_db = 'DROP DATABASE IF EXISTS ' + database_name + ';'\n",
    "    create_db = 'CREATE DATABASE ' + database_name + ';'\n",
    "    \n",
    "    \n",
    "    # drop any database of the existing name\n",
    "\n",
    "    cursor.execute(drop_db)\n",
    "    \n",
    "    \n",
    "    # creating a database\n",
    "\n",
    "    cursor.execute(create_db)\n",
    "    \n",
    "    \n",
    "    # close the connection\n",
    "\n",
    "    conn.close()\n",
    "    \n",
    "    \n",
    "    return print(\"Database \" + database_name + ' created successfully.')"
   ]
  },
  {
   "cell_type": "code",
   "execution_count": null,
   "metadata": {},
   "outputs": [
    {
     "name": "stdout",
     "output_type": "stream",
     "text": [
      "Database test1 created successfully.\n"
     ]
    }
   ],
   "source": [
    "createdb('test1')"
   ]
  },
  {
   "cell_type": "markdown",
   "metadata": {},
   "source": [
    "---  \n",
    "\n",
    "**DROP DATABASE FUNCTION**  "
   ]
  },
  {
   "cell_type": "code",
   "execution_count": null,
   "metadata": {},
   "outputs": [],
   "source": [
    "# defining the create database function\n",
    "\n",
    "def dropdb(database_name):\n",
    "    \n",
    "    \n",
    "    # pulling in the login credentials from the txt file\n",
    "    \n",
    "    credential = open('credentials.txt')\n",
    "    line = credential.readlines()\n",
    "    password = line[1][:-1]\n",
    "    \n",
    "    \n",
    "    # establishing a connection\n",
    "\n",
    "    conn = psycopg2.connect(\n",
    "        host=\"localhost\",\n",
    "        port=\"5432\",\n",
    "        database=\"postgres\",\n",
    "        user=\"postgres\",\n",
    "        password=password\n",
    "    )\n",
    "    conn.autocommit=True\n",
    "    \n",
    "    \n",
    "    # creating a cursor object using the cursor() method\n",
    "\n",
    "    cursor = conn.cursor()\n",
    "    \n",
    "    \n",
    "    # Preparing the query to drop a database\n",
    "\n",
    "    drop_db = 'DROP DATABASE IF EXISTS ' + database_name + ';'\n",
    "    \n",
    "    \n",
    "    # drop any database of the existing name\n",
    "\n",
    "    cursor.execute(drop_db)\n",
    "    \n",
    "    \n",
    "    # close the connection\n",
    "\n",
    "    conn.close()\n",
    "    \n",
    "    \n",
    "    return print(\"Database \" + database_name + ' dropped successfully.')"
   ]
  },
  {
   "cell_type": "code",
   "execution_count": null,
   "metadata": {},
   "outputs": [
    {
     "name": "stdout",
     "output_type": "stream",
     "text": [
      "Database test1 dropped successfully.\n"
     ]
    }
   ],
   "source": [
    "dropdb('test1')"
   ]
  },
  {
   "cell_type": "markdown",
   "metadata": {},
   "source": [
    "---  \n",
    "\n",
    "**LIST ALL DATABASES FUNCTION**"
   ]
  },
  {
   "cell_type": "code",
   "execution_count": null,
   "metadata": {},
   "outputs": [],
   "source": [
    "# defining the list all databases function\n",
    "\n",
    "def listdb():\n",
    "    \n",
    "    \n",
    "    # pulling in the login credentials from the txt file\n",
    "    \n",
    "    credential = open('credentials.txt')\n",
    "    line = credential.readlines()\n",
    "    password = line[1][:-1]\n",
    "    \n",
    "    \n",
    "    # establishing a connection\n",
    "\n",
    "    conn = psycopg2.connect(\n",
    "        host=\"localhost\",\n",
    "        port=\"5432\",\n",
    "        database=\"postgres\",\n",
    "        user=\"postgres\",\n",
    "        password=password\n",
    "    )\n",
    "    conn.autocommit=True\n",
    "    \n",
    "    \n",
    "    # Preparing the query to list all the databases database\n",
    "\n",
    "    list_db_query = 'SELECT datname FROM pg_database;'\n",
    "    \n",
    "    \n",
    "    # read all the databases in the postgres server\n",
    "\n",
    "    all_db = pd.read_sql(list_db_query, con=conn)\n",
    "    \n",
    "    \n",
    "    # convert the tuple all_db into dataframe df_db\n",
    "    \n",
    "    \n",
    "    df_db = pd.DataFrame(all_db)\n",
    "    \n",
    "    \n",
    "    # close the connection\n",
    "\n",
    "    conn.close()\n",
    "    \n",
    "    \n",
    "    return df_db"
   ]
  },
  {
   "cell_type": "code",
   "execution_count": null,
   "metadata": {},
   "outputs": [
    {
     "data": {
      "text/html": [
       "<div>\n",
       "<style scoped>\n",
       "    .dataframe tbody tr th:only-of-type {\n",
       "        vertical-align: middle;\n",
       "    }\n",
       "\n",
       "    .dataframe tbody tr th {\n",
       "        vertical-align: top;\n",
       "    }\n",
       "\n",
       "    .dataframe thead th {\n",
       "        text-align: right;\n",
       "    }\n",
       "</style>\n",
       "<table border=\"1\" class=\"dataframe\">\n",
       "  <thead>\n",
       "    <tr style=\"text-align: right;\">\n",
       "      <th></th>\n",
       "      <th>datname</th>\n",
       "    </tr>\n",
       "  </thead>\n",
       "  <tbody>\n",
       "    <tr>\n",
       "      <th>0</th>\n",
       "      <td>postgres</td>\n",
       "    </tr>\n",
       "    <tr>\n",
       "      <th>1</th>\n",
       "      <td>template1</td>\n",
       "    </tr>\n",
       "    <tr>\n",
       "      <th>2</th>\n",
       "      <td>template0</td>\n",
       "    </tr>\n",
       "    <tr>\n",
       "      <th>3</th>\n",
       "      <td>university_database</td>\n",
       "    </tr>\n",
       "    <tr>\n",
       "      <th>4</th>\n",
       "      <td>employees_mod</td>\n",
       "    </tr>\n",
       "    <tr>\n",
       "      <th>5</th>\n",
       "      <td>test</td>\n",
       "    </tr>\n",
       "  </tbody>\n",
       "</table>\n",
       "</div>"
      ],
      "text/plain": [
       "               datname\n",
       "0             postgres\n",
       "1            template1\n",
       "2            template0\n",
       "3  university_database\n",
       "4        employees_mod\n",
       "5                 test"
      ]
     },
     "metadata": {},
     "output_type": "display_data"
    }
   ],
   "source": [
    "listdb()"
   ]
  },
  {
   "cell_type": "markdown",
   "metadata": {},
   "source": [
    "---  \n",
    "\n",
    "**CREATE TABLE FROM DATAFRAME FUNCTION**"
   ]
  },
  {
   "cell_type": "code",
   "execution_count": 3,
   "metadata": {},
   "outputs": [],
   "source": [
    "# csv file to import\n",
    "\n",
    "raw_data = pd.read_csv('reason_for_absence.csv')"
   ]
  },
  {
   "cell_type": "code",
   "execution_count": null,
   "metadata": {},
   "outputs": [],
   "source": [
    "# defining the create table from pandas dataframe\n",
    "\n",
    "def createtb(database_name, table_name, df_name):\n",
    "\n",
    "\n",
    "    # pulling in the login credentials from the txt file\n",
    "    \n",
    "    credential = open('credentials.txt')\n",
    "    line = credential.readlines()\n",
    "    password = line[1][:-1]\n",
    "    \n",
    "    \n",
    "    # establish the path to the database\n",
    "\n",
    "    database_path = 'postgresql://postgres:' + password + '@localhost:5432/' + database_name\n",
    "    \n",
    "    \n",
    "    # establish the connection to the database to add the table\n",
    "\n",
    "    engine = create_engine(database_path)\n",
    "    \n",
    "    \n",
    "    # adding the table to the database\n",
    "\n",
    "    df_name.to_sql(table_name, con=engine, if_exists='replace', index=False)\n",
    "    \n",
    "    \n",
    "    # closing the connection to the database that was established\n",
    "\n",
    "    engine.dispose()\n",
    "    \n",
    "    return print(\"Table \" + table_name + \" created successfully\")"
   ]
  },
  {
   "cell_type": "code",
   "execution_count": null,
   "metadata": {},
   "outputs": [
    {
     "name": "stdout",
     "output_type": "stream",
     "text": [
      "Table reason_for_absence created successfully\n"
     ]
    }
   ],
   "source": [
    "createtb('test1', 'reason_for_absence', raw_data)"
   ]
  },
  {
   "cell_type": "markdown",
   "metadata": {},
   "source": [
    "---  \n",
    "\n",
    "**READ TABLE TO DATAFRAME FUNCTION**"
   ]
  },
  {
   "cell_type": "code",
   "execution_count": null,
   "metadata": {},
   "outputs": [],
   "source": [
    "# defining a read table to pandas dataframe function\n",
    "\n",
    "def readtb(database_name, table_name):\n",
    "\n",
    "\n",
    "    # pulling in the login credentials from the txt file\n",
    "    \n",
    "    credential = open('credentials.txt')\n",
    "    line = credential.readlines()\n",
    "    password = line[1][:-1]\n",
    "    \n",
    "    \n",
    "    # establishing a connection\n",
    "\n",
    "    conn = psycopg2.connect(\n",
    "        host=\"localhost\",\n",
    "        port=\"5432\",\n",
    "        database=database_name,\n",
    "        user=\"postgres\",\n",
    "        password=password\n",
    "    )\n",
    "    conn.autocommit=True\n",
    "    \n",
    "    \n",
    "    # creating the query to pull the data from the table\n",
    "    \n",
    "    query1 = \"SELECT * FROM \" + table_name + \";\"\n",
    "    \n",
    "    \n",
    "    # read the information in the table into a dataframe\n",
    "    \n",
    "    new_tuple = pd.read_sql(query1, con=conn)\n",
    "    new_df = pd.DataFrame(new_tuple)\n",
    "\n",
    "\n",
    "    # close the connection\n",
    "    \n",
    "    conn.close()\n",
    "    \n",
    "    \n",
    "    # print the particulars\n",
    "    \n",
    "    print(\"the information from the table \" + table_name + \" in the database \" + database_name + \" was extracted into the dataframe new_df\\n\"), \n",
    "    \n",
    "    \n",
    "    return new_df"
   ]
  },
  {
   "cell_type": "code",
   "execution_count": null,
   "metadata": {},
   "outputs": [],
   "source": [
    "df = readtb('test1', 'reason_for_absence')\n",
    "df"
   ]
  },
  {
   "cell_type": "markdown",
   "metadata": {},
   "source": [
    "---  \n",
    "\n",
    "**LIST ALL THE TABLES IN THE DATABASE FUNCTION**"
   ]
  },
  {
   "cell_type": "code",
   "execution_count": null,
   "metadata": {},
   "outputs": [],
   "source": [
    "# defining the list all tables in the database function\n",
    "\n",
    "def listtb(database_name):\n",
    "    \n",
    "    \n",
    "    # pulling in the login credentials from the txt file\n",
    "    \n",
    "    credential = open('credentials.txt')\n",
    "    line = credential.readlines()\n",
    "    password = line[1][:-1]\n",
    "    \n",
    "    \n",
    "    # establishing a connection\n",
    "\n",
    "    conn = psycopg2.connect(\n",
    "        host=\"localhost\",\n",
    "        port=\"5432\",\n",
    "        database=database_name,\n",
    "        user=\"postgres\",\n",
    "        password=password\n",
    "    )\n",
    "    conn.autocommit=True\n",
    "    \n",
    "    \n",
    "    # Preparing the query to list all the tables in the database\n",
    "\n",
    "    list_tb_query = \"SELECT * FROM information_schema.tables WHERE table_schema = 'public';\"\n",
    "    \n",
    "    \n",
    "    # read all the tables in the database\n",
    "\n",
    "    all_tb = pd.read_sql(list_tb_query, con=conn)\n",
    "    \n",
    "    \n",
    "    # convert the tuple all_db into dataframe df_db\n",
    "    \n",
    "    \n",
    "    df_tb = pd.DataFrame(all_tb)\n",
    "    \n",
    "    \n",
    "    # close the connection\n",
    "\n",
    "    conn.close()\n",
    "    \n",
    "    \n",
    "    return df_tb['table_name']"
   ]
  },
  {
   "cell_type": "code",
   "execution_count": null,
   "metadata": {},
   "outputs": [
    {
     "data": {
      "text/plain": [
       "0    reason_for_absence\n",
       "Name: table_name, dtype: object"
      ]
     },
     "metadata": {},
     "output_type": "display_data"
    }
   ],
   "source": [
    "listtb('test1')"
   ]
  },
  {
   "cell_type": "markdown",
   "metadata": {},
   "source": [
    "---"
   ]
  }
 ],
 "metadata": {
  "kernelspec": {
   "display_name": "Python 3",
   "language": "python",
   "name": "python3"
  },
  "language_info": {
   "codemirror_mode": {
    "name": "ipython",
    "version": 3
   },
   "file_extension": ".py",
   "mimetype": "text/x-python",
   "name": "python",
   "nbconvert_exporter": "python",
   "pygments_lexer": "ipython3",
   "version": "3.10.9"
  },
  "orig_nbformat": 4
 },
 "nbformat": 4,
 "nbformat_minor": 2
}
